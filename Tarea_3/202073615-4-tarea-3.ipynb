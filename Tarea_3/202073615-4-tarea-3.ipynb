{
  "cells": [
    {
      "cell_type": "markdown",
      "metadata": {
        "cell_id": "ae117b6a88b74ba484da6bfd90dac4c4",
        "deepnote_cell_type": "text-cell-p",
        "formattedRanges": [],
        "id": "FMmnuekg2wuY"
      },
      "source": []
    },
    {
      "cell_type": "markdown",
      "metadata": {
        "cell_id": "bdd132155a174f91bbfe420184bb56d9",
        "deepnote_cell_type": "markdown",
        "id": "rynIdmNp2wud"
      },
      "source": [
        "<center>\n",
        "    <h1> INF285 - Computación Científica </h1>\n",
        "    <h2> Tarea 3</h2>\n",
        "    <h2> [S]cientific [C]omputing [T]eam </a> </h2>\n",
        "    <h2> Version: 1.00</h2>\n",
        "</center>"
      ]
    },
    {
      "cell_type": "markdown",
      "metadata": {
        "cell_id": "41f237d5547143c9a3a3f3979cfeca00",
        "deepnote_cell_type": "markdown",
        "id": "iXqq0rpi2wuf"
      },
      "source": [
        "# Contexto"
      ]
    },
    {
      "cell_type": "markdown",
      "metadata": {
        "cell_id": "c0ed5f10bb364dcf98290a6a6f111379",
        "deepnote_cell_type": "markdown",
        "id": "AEdLeE4S2wug"
      },
      "source": [
        "Para los amantes del vino, la **calidad** es un factor importante al momento de decidir. Las propiedades de un vino, principalmente químicas, influyen en gran medida en el proceso de fermentación. Existen varias carcaterísticas que pueden ayudar a analizar y estudiar la calidad de un vino, ya sea tinto o blanco. A continuación se describen algunas:\n",
        "\n",
        "* **acidez fija**: tiene que ver con la acidez no volátil del vino.\n",
        "* **acidez volátil**: es la cantidad de ácido acético en el vino.\n",
        "* **acidez cítrica**: el ácido cítrico puede agregar sabor al vino.\n",
        "* **azúcar residual**: es la cantidad de azúcar que queda después del proceso de fermentación.\n",
        "* **cloruro**: es la cantidad de sal en el vino.\n",
        "* **dióxido de azufre libre**: cantidad de dióxido de azufre en forma libre.\n",
        "* **dióxido de azufre total**: cantidad de dióxido de azufre de formas libres y ligadas.\n",
        "* **densidad**: indica la densidad del vino.\n",
        "* **ph**: indica el ph del vino.\n",
        "* **sulfatos**: indica la cantidad de sulfatos en el vino.\n",
        "* **alcohol**: indica la cantidad porcentual de alcohol en el vino.\n",
        "* **calidad**: indica la calidad del vino.\n",
        "\n",
        "Usted cuenta con un archivo denominado *vinos.csv* el cual cuenta en cada columna con los datos de 3000 vinos para cada característica mencionada anteriormente. El problema es que algunas calidades no se han podido obtener, dado que hay **datos faltantes**. Por lo tanto, se necesita aproximar esos datos faltantes para así poder obtener alguna aproximación de la calidad de esos vinos.\n",
        "\n",
        "**NOTA: cada dato faltante tiene valor -1.0, así como también la calidad del vino que cuenta con un dato faltante.**"
      ]
    },
    {
      "cell_type": "markdown",
      "metadata": {
        "cell_id": "40e8ac834cef4344a0eb8e5ea2802c95",
        "deepnote_cell_type": "markdown",
        "id": "0DFfig_C2wug"
      },
      "source": [
        "# Librerías (no utilizar liberías adicionales)"
      ]
    },
    {
      "cell_type": "code",
      "execution_count": 1,
      "metadata": {
        "cell_id": "f3147c5147e74e5dacfe37e8d40453df",
        "deepnote_cell_type": "code",
        "deepnote_to_be_reexecuted": false,
        "execution_millis": 951,
        "execution_start": 1698132251776,
        "id": "BRLAxo4e2wuh",
        "source_hash": null
      },
      "outputs": [],
      "source": [
        "import numpy as np\n",
        "import pandas as pd"
      ]
    },
    {
      "cell_type": "markdown",
      "metadata": {
        "cell_id": "d3f6a60c5aca4562a689540bd6e95f20",
        "deepnote_cell_type": "markdown",
        "id": "ECeuWBus2wui"
      },
      "source": [
        "# Información y funciones entregadas"
      ]
    },
    {
      "cell_type": "code",
      "execution_count": 2,
      "metadata": {
        "cell_id": "057556f8c4d04ebcb09cfc51bebb6ffd",
        "deepnote_cell_type": "code",
        "deepnote_to_be_reexecuted": false,
        "execution_millis": 19,
        "execution_start": 1698132281350,
        "id": "02S4cESr2wui",
        "source_hash": null
      },
      "outputs": [],
      "source": [
        "def obtainData(filename):\n",
        "    \"\"\"\n",
        "    input(s)\n",
        "    --------\n",
        "    filename :(str)     filename with format csv.\n",
        "\n",
        "    output(s)\n",
        "    ---------\n",
        "    labels:   (list)    a list with labels.\n",
        "    mat:      (ndarray) matrix with data of size n x m.\n",
        "    \"\"\"\n",
        "    df = pd.read_csv(filename)\n",
        "    labels = list(df.columns)\n",
        "    df = df.drop(columns=[\"pos\"])\n",
        "    mat = df.to_numpy()\n",
        "    return labels,mat"
      ]
    },
    {
      "cell_type": "code",
      "execution_count": 3,
      "metadata": {
        "id": "xnTw3qC6dnmU"
      },
      "outputs": [],
      "source": [
        "labels,mat = obtainData(\"vinos.csv\")"
      ]
    },
    {
      "cell_type": "markdown",
      "metadata": {
        "cell_id": "d87de0df36ff41f194b47df25fff9eff",
        "deepnote_cell_type": "markdown",
        "id": "IX1wOHYK2wuj"
      },
      "source": [
        "# Consultas\n",
        "\n",
        "* Enviar a: **tareas.inf285@gmail.com**\n",
        "* Se recibirán consultas en dos bloques. El primer bloque será desde las 08:00 hrs hasta las 10:00 hrs, donde todas las preguntas recibidas dentro de este bloque se responderán con seguridad a partir de las 10:01 hrs. El segundo bloque de consultas será desde las 10:01 hrs hasta las 14:00 hrs, donde las preguntas recibidas dentro de este bloque horario se responderán con seguridad a partir de las 14:01 hrs."
      ]
    },
    {
      "cell_type": "markdown",
      "metadata": {
        "cell_id": "d5ef69c347e545b4ad1a58c0ad0c103e",
        "deepnote_cell_type": "markdown",
        "id": "ZXXsLvGV2wuk"
      },
      "source": [
        "# Pregunta 1 - Datos Faltantes (20 puntos)\n",
        "\n",
        "Desarrolle un algoritmo que permita encontrar la fila y la columna respectiva de un dato faltante. La función debe entregar una lista de tuplas, en donde cada tupla *(i,j)* indica el índice de la fila y la columna respectivamente.\n"
      ]
    },
    {
      "cell_type": "code",
      "execution_count": 4,
      "metadata": {
        "cell_id": "ac1991204ba747119fa7b2b7ae61ad74",
        "deepnote_cell_type": "code",
        "id": "3HPPElfl2wuk"
      },
      "outputs": [],
      "source": [
        "def missing_data(mat):\n",
        "    \"\"\"\n",
        "    input(s)\n",
        "    ----------\n",
        "    mat:  (ndarray) matrix with information of wines.\n",
        "\n",
        "    output(s)\n",
        "    ----------\n",
        "    index_list: (list) list of tuples with row-column indices of missing data.\n",
        "    \"\"\"\n",
        "    #Aquí va su código\n",
        "\n",
        "    #calidad no es considerada como dato faltante\n",
        "    modified_mat = mat[:, :-1]\n",
        "    index_2D_array = np.where(modified_mat == -1)\n",
        "    index_list = list(zip(index_2D_array[0], index_2D_array[1]))\n",
        "\n",
        "    return index_list"
      ]
    },
    {
      "cell_type": "markdown",
      "metadata": {
        "cell_id": "eab1720b9c3243a2aae8383efd8efad9",
        "deepnote_cell_type": "markdown",
        "id": "TjKtmM2a2wuk"
      },
      "source": [
        "# Pregunta 2 (30 puntos): Mínimos Cuadrados I\n",
        "\n",
        "Desarrolle un algoritmo que permita completar algún dato faltante que se encuentre en la posición $(i,j)$ con las columnas $(j-1)$ y $(j + 1)$. En caso de que el dato faltante se encuentre en la última columna (alcohol), debe utilizar la primera columna como la siguiente (acidez fija). De forma análoga si el dato faltante se encuentra en la primera columna, debe utilizar la última columna como la anterior. El algoritmo recibe como parámetro la posición del dato faltante y la cantidad de valores a utilizar $p$ utilizando mínimos cuadrados. Asumir que se utilizan los $p$ valores anteriores a la fila $i$ y los $p$ valores siguientes a la fila $i$.En este caso el dato faltante se aproxima mediante la función $y = c_1x_1 + c_2x_2$, donde $x_1$ y $x_2$ son las columnas $(j-1)$ y $(j + 1)$ respectivamente. La función debe retornar la aproximación del dato faltante.\n"
      ]
    },
    {
      "cell_type": "code",
      "execution_count": 5,
      "metadata": {},
      "outputs": [],
      "source": [
        "#función auxiliar para eliminar la data inválida\n",
        "def remove_rows_invalid_data(missing_data,cols,y,mat):\n",
        "    \"\"\"\n",
        "    input(s)\n",
        "    ----------\n",
        "    missing_data:  (list) list of tuples with row-column indices of missing data.\n",
        "    cols:          (list) list of column indices where it is necessary to remove data.\n",
        "    y:             (ndarray) vector that is also modified by the missing data\n",
        "    mat:           (ndarray) matrix with rows to remove.\n",
        "\n",
        "    output(s)\n",
        "    ----------\n",
        "    modified_mat: (ndarray) matrix without missing data in the columns specified\n",
        "    modified_y:   (ndarray) vector without missing data in the rows where there is missing data\n",
        "    \"\"\"\n",
        "    #primero se filtran los indices de las columnas que nos interesan\n",
        "    filtered_missing_indices = [index for index in missing_data if index[1] in cols]\n",
        "\n",
        "    #sacamos las filas que contienen -1 en alguna de sus columnas\n",
        "    rows_to_remove = set(index[0] for index in filtered_missing_indices)\n",
        "    modified_mat = np.delete(mat, list(rows_to_remove), axis=0)\n",
        "    modified_y = np.delete(y, list(rows_to_remove), axis=0)\n",
        "    return modified_mat, modified_y\n"
      ]
    },
    {
      "cell_type": "code",
      "execution_count": 6,
      "metadata": {
        "cell_id": "cc2a6ebc41d049d6a0b46b2bc4241121",
        "deepnote_cell_type": "code",
        "id": "g6nz3aoN2wul"
      },
      "outputs": [],
      "source": [
        "def aprox_lsq(i,j,p,mat):\n",
        "    \"\"\"\n",
        "    input(s)\n",
        "    ----------\n",
        "    i:    (int) row index of missing data.\n",
        "    j:    (int) column index of missing data.\n",
        "    p:    (int) number of values for approximating the missing data.\n",
        "    mat:  (ndarray) matrix with information of wines.\n",
        "\n",
        "    output(s)\n",
        "    ----------\n",
        "    y_estimated: (float) missing data value estimated.\n",
        "    \"\"\"\n",
        "    #Aquí va su código\n",
        "\n",
        "    #la calidad no se considera:\n",
        "    mat = mat[:, :-1]\n",
        "    \n",
        "    col_prev = (j - 1) % mat.shape[1]\n",
        "    col_next = (j + 1) % mat.shape[1]\n",
        "  \n",
        "    start_row = max(i - p, 0)\n",
        "    end_row = min(i + p + 1, mat.shape[0])\n",
        "\n",
        "    x1 = np.concatenate((mat[start_row:i, col_prev], mat[i+1:end_row, col_prev]))\n",
        "    x2 = np.concatenate((mat[start_row:i, col_next], mat[i+1:end_row, col_next]))\n",
        "    X = np.column_stack((x1, x2))\n",
        "\n",
        "    y = np.concatenate((mat[start_row:i, j], mat[i+1:end_row, j]))\n",
        "\n",
        "    X, y= remove_rows_invalid_data(missing_data(X),[col_prev,col_next],y,X)\n",
        "\n",
        "    Q,R = np.linalg.qr(X, mode=\"reduced\")\n",
        "    c1,c2 = np.linalg.solve(R, np.dot(Q.T, y))\n",
        "    \n",
        "    x1_i_row = mat[i, col_prev] \n",
        "    x2_i_row = mat[i, col_next] \n",
        "\n",
        "    y_estimated = c1 * x1_i_row + c2 * x2_i_row\n",
        "    return y_estimated"
      ]
    },
    {
      "cell_type": "markdown",
      "metadata": {
        "cell_id": "a16daa3f8989488fb9d9e9dbff5d7cf8",
        "deepnote_cell_type": "markdown",
        "id": "tlp3Jst62wum"
      },
      "source": [
        "# Pregunta 3 (40 puntos): Mínimos Cuadrados II.\n",
        "\n",
        "Suponga que ahora se quiere aproximar los datos faltantes acorde a la siguiente función:\n",
        "\n",
        "$$\n",
        "y = a \\,\\exp(bx)\n",
        "$$\n",
        "\n",
        "Desarrolle un algoritmo que aproxime el dato faltante de la posición $(i,j)$ usando la columna anterior $(j-1)$. El algoritmo recibe como parámetro la posición del dato faltante y la cantidad de valores a utilizar $p$ utilizando mínimos cuadrados. Asumir que se utilizan los $p$ valores anteriores a la fila $i$ y los $p$ valores siguientes a la fila $i$."
      ]
    },
    {
      "cell_type": "code",
      "execution_count": 7,
      "metadata": {
        "cell_id": "6d93e74e2f73411ebbf6b4b7a579deee",
        "deepnote_cell_type": "code",
        "id": "cnz9mawT2wum"
      },
      "outputs": [],
      "source": [
        "def aprox_lsq_2(i,j,p,mat):\n",
        "    \"\"\"\n",
        "    input(s)\n",
        "    ----------\n",
        "    i:    (int) row index of missing data.\n",
        "    j:    (int) column index of missing data.\n",
        "    p:    (int) number of values for approximating the missing data.\n",
        "    mat:  (ndarray) matrix with information of wines.\n",
        "\n",
        "    output(s)\n",
        "    ----------\n",
        "    y_estimated: (float) missing data value estimated.\n",
        "    \"\"\"\n",
        "    #Aquí va su código\n",
        "    \n",
        "    #la calidad no se considera:\n",
        "    mat = mat[:, :-1]\n",
        "    col_prev = (j - 1) % mat.shape[1]\n",
        "  \n",
        "    start_row = max(i - p, 0)\n",
        "    end_row = min(i + p + 1, mat.shape[0])\n",
        "    \n",
        "    X = np.concatenate((mat[start_row:i, col_prev], mat[i+1:end_row, col_prev]))\n",
        "    X = np.column_stack([np.ones_like(X),X])\n",
        "    \n",
        "    y = np.concatenate((mat[start_row:i, j], mat[i+1:end_row, j]))\n",
        "\n",
        "    X, y = remove_rows_invalid_data(missing_data(X), col_prev, y, X)\n",
        "    \n",
        "    ln_y_values = np.log(y)\n",
        "\n",
        "    Q,R = np.linalg.qr(X, mode=\"reduced\")\n",
        "    ln_a, b= np.linalg.solve(R, np.dot(Q.T, ln_y_values))\n",
        "    x_i_row = mat[i, col_prev]\n",
        "\n",
        "    y_estimated = np.exp(ln_a + b*x_i_row)\n",
        "    return y_estimated"
      ]
    },
    {
      "cell_type": "code",
      "execution_count": 8,
      "metadata": {},
      "outputs": [
        {
          "data": {
            "text/plain": [
              "0.36155834697257705"
            ]
          },
          "execution_count": 8,
          "metadata": {},
          "output_type": "execute_result"
        }
      ],
      "source": [
        "aprox_lsq(511,2,100,mat)"
      ]
    }
  ],
  "metadata": {
    "colab": {
      "provenance": []
    },
    "deepnote": {},
    "deepnote_execution_queue": [],
    "deepnote_notebook_id": "5bd9396cbaf94af48cf4febd08f5d766",
    "deepnote_persisted_session": {
      "createdAt": "2023-10-24T07:46:24.293Z"
    },
    "kernelspec": {
      "display_name": "Python 3",
      "name": "python3"
    },
    "language_info": {
      "codemirror_mode": {
        "name": "ipython",
        "version": 3
      },
      "file_extension": ".py",
      "mimetype": "text/x-python",
      "name": "python",
      "nbconvert_exporter": "python",
      "pygments_lexer": "ipython3",
      "version": "3.11.2"
    },
    "orig_nbformat": 2
  },
  "nbformat": 4,
  "nbformat_minor": 0
}
